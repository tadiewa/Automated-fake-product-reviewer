{
 "cells": [
  {
   "cell_type": "code",
   "execution_count": 7,
   "metadata": {},
   "outputs": [],
   "source": [
    "doc1 = \"i love florence\"\n",
    "doc2 =\" in a relationship with florence\"\n",
    "doc3 =\" in a relationship \"\n",
    "\n",
    "documents =[doc1 , doc3]\n"
   ]
  },
  {
   "cell_type": "code",
   "execution_count": 8,
   "metadata": {},
   "outputs": [],
   "source": [
    "from sklearn.feature_extraction.text import CountVectorizer\n",
    "import pandas as pd\n",
    "from sklearn.metrics.pairwise import cosine_similarity"
   ]
  },
  {
   "cell_type": "code",
   "execution_count": 9,
   "metadata": {},
   "outputs": [],
   "source": [
    "count_vectorizer = CountVectorizer(stop_words='english')\n",
    "\n",
    "count_vectorizer = CountVectorizer() \n",
    "sparse_matrix = count_vectorizer.fit_transform(documents)\n"
   ]
  },
  {
   "cell_type": "code",
   "execution_count": 10,
   "metadata": {},
   "outputs": [
    {
     "name": "stdout",
     "output_type": "stream",
     "text": [
      "      florence  in  love  relationship\n",
      "doc1         1   0     1             0\n",
      "doc3         0   1     0             1\n"
     ]
    }
   ],
   "source": [
    "doc_term_matrix = sparse_matrix.todense() \n",
    "df = pd.DataFrame(doc_term_matrix,                  \n",
    "                  columns=count_vectorizer.get_feature_names(),                   \n",
    "                  index=['doc1', 'doc3',]) \n",
    "\n",
    "print (df)\n"
   ]
  },
  {
   "cell_type": "code",
   "execution_count": 12,
   "metadata": {},
   "outputs": [
    {
     "name": "stdout",
     "output_type": "stream",
     "text": [
      "[[1. 0.]\n",
      " [0. 1.]]\n",
      "1\n",
      "0.0\n",
      "False\n",
      "0.0\n"
     ]
    }
   ],
   "source": [
    "print(cosine_similarity(df))\n",
    "print(df[df.columns[0]].iloc[0])\n",
    "print(cosine_similarity(df)[1][0])\n",
    "x = cosine_similarity(df)[1][0]\n",
    "print(cosine_similarity(df).all())\n",
    "print(x)\n"
   ]
  },
  {
   "cell_type": "code",
   "execution_count": 116,
   "metadata": {},
   "outputs": [
    {
     "name": "stdout",
     "output_type": "stream",
     "text": [
      "geniune\n"
     ]
    }
   ],
   "source": [
    "if cosine_similarity(df).all()>=0.5:\n",
    "    print (\"fake\")\n",
    "else:\n",
    "    print(\"geniune\")"
   ]
  },
  {
   "cell_type": "code",
   "execution_count": null,
   "metadata": {},
   "outputs": [],
   "source": []
  },
  {
   "cell_type": "code",
   "execution_count": null,
   "metadata": {},
   "outputs": [],
   "source": []
  }
 ],
 "metadata": {
  "kernelspec": {
   "display_name": "Python 3",
   "language": "python",
   "name": "python3"
  },
  "language_info": {
   "codemirror_mode": {
    "name": "ipython",
    "version": 3
   },
   "file_extension": ".py",
   "mimetype": "text/x-python",
   "name": "python",
   "nbconvert_exporter": "python",
   "pygments_lexer": "ipython3",
   "version": "3.7.5"
  }
 },
 "nbformat": 4,
 "nbformat_minor": 4
}
