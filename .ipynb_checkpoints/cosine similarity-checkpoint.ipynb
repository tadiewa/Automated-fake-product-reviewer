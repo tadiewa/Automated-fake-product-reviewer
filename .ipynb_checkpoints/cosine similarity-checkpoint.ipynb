{
 "cells": [
  {
   "cell_type": "code",
   "execution_count": 14,
   "metadata": {},
   "outputs": [],
   "source": [
    "doc1 = \"i love florence\"\n",
    "doc2 =\" in a relationship with florence\"\n",
    "doc3 =\" hey hello life \"\n",
    "\n",
    "documents =[doc1 , doc3]"
   ]
  },
  {
   "cell_type": "code",
   "execution_count": 15,
   "metadata": {},
   "outputs": [],
   "source": [
    "from sklearn.feature_extraction.text import CountVectorizer\n",
    "import pandas as pd\n",
    "from sklearn.metrics.pairwise import cosine_similarity"
   ]
  },
  {
   "cell_type": "code",
   "execution_count": 17,
   "metadata": {},
   "outputs": [],
   "source": [
    "count_vectorizer = CountVectorizer(stop_words='english')\n",
    "\n",
    "count_vectorizer = CountVectorizer() \n",
    "sparse_matrix = count_vectorizer.fit_transform(documents)\n"
   ]
  },
  {
   "cell_type": "code",
   "execution_count": 18,
   "metadata": {},
   "outputs": [
    {
     "name": "stdout",
     "output_type": "stream",
     "text": [
      "      florence  love  much  so  you\n",
      "doc1         1     1     0   0    0\n",
      "doc3         1     1     1   1    1\n"
     ]
    }
   ],
   "source": [
    "doc_term_matrix = sparse_matrix.todense() \n",
    "df = pd.DataFrame(doc_term_matrix,                  \n",
    "                  columns=count_vectorizer.get_feature_names(),                   \n",
    "                  index=['doc1', 'doc3',]) \n",
    "\n",
    "print (df)\n"
   ]
  },
  {
   "cell_type": "code",
   "execution_count": 19,
   "metadata": {},
   "outputs": [
    {
     "name": "stdout",
     "output_type": "stream",
     "text": [
      "[[1.         0.63245553]\n",
      " [0.63245553 1.        ]]\n"
     ]
    }
   ],
   "source": [
    "\n",
    "print(cosine_similarity(df))"
   ]
  },
  {
   "cell_type": "code",
   "execution_count": 20,
   "metadata": {},
   "outputs": [
    {
     "name": "stdout",
     "output_type": "stream",
     "text": [
      "fake\n"
     ]
    }
   ],
   "source": [
    "if (cosine_similarity(df,df).all()>=0.5):\n",
    "    print (\"fake\")\n",
    "else:\n",
    "    print(\"geniune\")"
   ]
  },
  {
   "cell_type": "code",
   "execution_count": null,
   "metadata": {},
   "outputs": [],
   "source": []
  }
 ],
 "metadata": {
  "kernelspec": {
   "display_name": "Python 3",
   "language": "python",
   "name": "python3"
  },
  "language_info": {
   "codemirror_mode": {
    "name": "ipython",
    "version": 3
   },
   "file_extension": ".py",
   "mimetype": "text/x-python",
   "name": "python",
   "nbconvert_exporter": "python",
   "pygments_lexer": "ipython3",
   "version": "3.7.5"
  }
 },
 "nbformat": 4,
 "nbformat_minor": 4
}
